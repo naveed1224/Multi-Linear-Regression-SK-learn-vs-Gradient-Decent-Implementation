{
 "cells": [
  {
   "cell_type": "markdown",
   "metadata": {},
   "source": [
    "# Multiple Linear Regression\n",
    "-Implementation from scratch"
   ]
  },
  {
   "cell_type": "code",
   "execution_count": 1,
   "metadata": {},
   "outputs": [],
   "source": [
    "from sklearn import datasets\n",
    "import numpy as np\n",
    "import pandas as pd\n",
    "import matplotlib.pyplot as plt\n",
    "import seaborn as sns"
   ]
  },
  {
   "cell_type": "code",
   "execution_count": 2,
   "metadata": {},
   "outputs": [],
   "source": [
    "#using boston dataset\n",
    "dataset_boston = datasets.load_boston()"
   ]
  },
  {
   "cell_type": "code",
   "execution_count": 3,
   "metadata": {},
   "outputs": [],
   "source": [
    "#convert dataset to pandas dataframe\n",
    "df_boston = pd.DataFrame(dataset_boston.data)"
   ]
  },
  {
   "cell_type": "code",
   "execution_count": 4,
   "metadata": {},
   "outputs": [
    {
     "data": {
      "text/html": [
       "<div>\n",
       "<style scoped>\n",
       "    .dataframe tbody tr th:only-of-type {\n",
       "        vertical-align: middle;\n",
       "    }\n",
       "\n",
       "    .dataframe tbody tr th {\n",
       "        vertical-align: top;\n",
       "    }\n",
       "\n",
       "    .dataframe thead th {\n",
       "        text-align: right;\n",
       "    }\n",
       "</style>\n",
       "<table border=\"1\" class=\"dataframe\">\n",
       "  <thead>\n",
       "    <tr style=\"text-align: right;\">\n",
       "      <th></th>\n",
       "      <th>0</th>\n",
       "      <th>1</th>\n",
       "      <th>2</th>\n",
       "      <th>3</th>\n",
       "      <th>4</th>\n",
       "      <th>5</th>\n",
       "      <th>6</th>\n",
       "      <th>7</th>\n",
       "      <th>8</th>\n",
       "      <th>9</th>\n",
       "      <th>10</th>\n",
       "      <th>11</th>\n",
       "      <th>12</th>\n",
       "    </tr>\n",
       "  </thead>\n",
       "  <tbody>\n",
       "    <tr>\n",
       "      <th>0</th>\n",
       "      <td>0.00632</td>\n",
       "      <td>18.0</td>\n",
       "      <td>2.31</td>\n",
       "      <td>0.0</td>\n",
       "      <td>0.538</td>\n",
       "      <td>6.575</td>\n",
       "      <td>65.2</td>\n",
       "      <td>4.0900</td>\n",
       "      <td>1.0</td>\n",
       "      <td>296.0</td>\n",
       "      <td>15.3</td>\n",
       "      <td>396.90</td>\n",
       "      <td>4.98</td>\n",
       "    </tr>\n",
       "    <tr>\n",
       "      <th>1</th>\n",
       "      <td>0.02731</td>\n",
       "      <td>0.0</td>\n",
       "      <td>7.07</td>\n",
       "      <td>0.0</td>\n",
       "      <td>0.469</td>\n",
       "      <td>6.421</td>\n",
       "      <td>78.9</td>\n",
       "      <td>4.9671</td>\n",
       "      <td>2.0</td>\n",
       "      <td>242.0</td>\n",
       "      <td>17.8</td>\n",
       "      <td>396.90</td>\n",
       "      <td>9.14</td>\n",
       "    </tr>\n",
       "    <tr>\n",
       "      <th>2</th>\n",
       "      <td>0.02729</td>\n",
       "      <td>0.0</td>\n",
       "      <td>7.07</td>\n",
       "      <td>0.0</td>\n",
       "      <td>0.469</td>\n",
       "      <td>7.185</td>\n",
       "      <td>61.1</td>\n",
       "      <td>4.9671</td>\n",
       "      <td>2.0</td>\n",
       "      <td>242.0</td>\n",
       "      <td>17.8</td>\n",
       "      <td>392.83</td>\n",
       "      <td>4.03</td>\n",
       "    </tr>\n",
       "    <tr>\n",
       "      <th>3</th>\n",
       "      <td>0.03237</td>\n",
       "      <td>0.0</td>\n",
       "      <td>2.18</td>\n",
       "      <td>0.0</td>\n",
       "      <td>0.458</td>\n",
       "      <td>6.998</td>\n",
       "      <td>45.8</td>\n",
       "      <td>6.0622</td>\n",
       "      <td>3.0</td>\n",
       "      <td>222.0</td>\n",
       "      <td>18.7</td>\n",
       "      <td>394.63</td>\n",
       "      <td>2.94</td>\n",
       "    </tr>\n",
       "    <tr>\n",
       "      <th>4</th>\n",
       "      <td>0.06905</td>\n",
       "      <td>0.0</td>\n",
       "      <td>2.18</td>\n",
       "      <td>0.0</td>\n",
       "      <td>0.458</td>\n",
       "      <td>7.147</td>\n",
       "      <td>54.2</td>\n",
       "      <td>6.0622</td>\n",
       "      <td>3.0</td>\n",
       "      <td>222.0</td>\n",
       "      <td>18.7</td>\n",
       "      <td>396.90</td>\n",
       "      <td>5.33</td>\n",
       "    </tr>\n",
       "  </tbody>\n",
       "</table>\n",
       "</div>"
      ],
      "text/plain": [
       "         0     1     2    3      4      5     6       7    8      9    10  \\\n",
       "0  0.00632  18.0  2.31  0.0  0.538  6.575  65.2  4.0900  1.0  296.0  15.3   \n",
       "1  0.02731   0.0  7.07  0.0  0.469  6.421  78.9  4.9671  2.0  242.0  17.8   \n",
       "2  0.02729   0.0  7.07  0.0  0.469  7.185  61.1  4.9671  2.0  242.0  17.8   \n",
       "3  0.03237   0.0  2.18  0.0  0.458  6.998  45.8  6.0622  3.0  222.0  18.7   \n",
       "4  0.06905   0.0  2.18  0.0  0.458  7.147  54.2  6.0622  3.0  222.0  18.7   \n",
       "\n",
       "       11    12  \n",
       "0  396.90  4.98  \n",
       "1  396.90  9.14  \n",
       "2  392.83  4.03  \n",
       "3  394.63  2.94  \n",
       "4  396.90  5.33  "
      ]
     },
     "execution_count": 4,
     "metadata": {},
     "output_type": "execute_result"
    }
   ],
   "source": [
    "df_boston.head()"
   ]
  },
  {
   "cell_type": "code",
   "execution_count": 5,
   "metadata": {},
   "outputs": [],
   "source": [
    "#reset columns \n",
    "df_boston.columns = dataset_boston.feature_names"
   ]
  },
  {
   "cell_type": "code",
   "execution_count": 6,
   "metadata": {},
   "outputs": [
    {
     "data": {
      "text/html": [
       "<div>\n",
       "<style scoped>\n",
       "    .dataframe tbody tr th:only-of-type {\n",
       "        vertical-align: middle;\n",
       "    }\n",
       "\n",
       "    .dataframe tbody tr th {\n",
       "        vertical-align: top;\n",
       "    }\n",
       "\n",
       "    .dataframe thead th {\n",
       "        text-align: right;\n",
       "    }\n",
       "</style>\n",
       "<table border=\"1\" class=\"dataframe\">\n",
       "  <thead>\n",
       "    <tr style=\"text-align: right;\">\n",
       "      <th></th>\n",
       "      <th>CRIM</th>\n",
       "      <th>ZN</th>\n",
       "      <th>INDUS</th>\n",
       "      <th>CHAS</th>\n",
       "      <th>NOX</th>\n",
       "      <th>RM</th>\n",
       "      <th>AGE</th>\n",
       "      <th>DIS</th>\n",
       "      <th>RAD</th>\n",
       "      <th>TAX</th>\n",
       "      <th>PTRATIO</th>\n",
       "      <th>B</th>\n",
       "      <th>LSTAT</th>\n",
       "    </tr>\n",
       "  </thead>\n",
       "  <tbody>\n",
       "    <tr>\n",
       "      <th>0</th>\n",
       "      <td>0.00632</td>\n",
       "      <td>18.0</td>\n",
       "      <td>2.31</td>\n",
       "      <td>0.0</td>\n",
       "      <td>0.538</td>\n",
       "      <td>6.575</td>\n",
       "      <td>65.2</td>\n",
       "      <td>4.0900</td>\n",
       "      <td>1.0</td>\n",
       "      <td>296.0</td>\n",
       "      <td>15.3</td>\n",
       "      <td>396.90</td>\n",
       "      <td>4.98</td>\n",
       "    </tr>\n",
       "    <tr>\n",
       "      <th>1</th>\n",
       "      <td>0.02731</td>\n",
       "      <td>0.0</td>\n",
       "      <td>7.07</td>\n",
       "      <td>0.0</td>\n",
       "      <td>0.469</td>\n",
       "      <td>6.421</td>\n",
       "      <td>78.9</td>\n",
       "      <td>4.9671</td>\n",
       "      <td>2.0</td>\n",
       "      <td>242.0</td>\n",
       "      <td>17.8</td>\n",
       "      <td>396.90</td>\n",
       "      <td>9.14</td>\n",
       "    </tr>\n",
       "    <tr>\n",
       "      <th>2</th>\n",
       "      <td>0.02729</td>\n",
       "      <td>0.0</td>\n",
       "      <td>7.07</td>\n",
       "      <td>0.0</td>\n",
       "      <td>0.469</td>\n",
       "      <td>7.185</td>\n",
       "      <td>61.1</td>\n",
       "      <td>4.9671</td>\n",
       "      <td>2.0</td>\n",
       "      <td>242.0</td>\n",
       "      <td>17.8</td>\n",
       "      <td>392.83</td>\n",
       "      <td>4.03</td>\n",
       "    </tr>\n",
       "    <tr>\n",
       "      <th>3</th>\n",
       "      <td>0.03237</td>\n",
       "      <td>0.0</td>\n",
       "      <td>2.18</td>\n",
       "      <td>0.0</td>\n",
       "      <td>0.458</td>\n",
       "      <td>6.998</td>\n",
       "      <td>45.8</td>\n",
       "      <td>6.0622</td>\n",
       "      <td>3.0</td>\n",
       "      <td>222.0</td>\n",
       "      <td>18.7</td>\n",
       "      <td>394.63</td>\n",
       "      <td>2.94</td>\n",
       "    </tr>\n",
       "    <tr>\n",
       "      <th>4</th>\n",
       "      <td>0.06905</td>\n",
       "      <td>0.0</td>\n",
       "      <td>2.18</td>\n",
       "      <td>0.0</td>\n",
       "      <td>0.458</td>\n",
       "      <td>7.147</td>\n",
       "      <td>54.2</td>\n",
       "      <td>6.0622</td>\n",
       "      <td>3.0</td>\n",
       "      <td>222.0</td>\n",
       "      <td>18.7</td>\n",
       "      <td>396.90</td>\n",
       "      <td>5.33</td>\n",
       "    </tr>\n",
       "  </tbody>\n",
       "</table>\n",
       "</div>"
      ],
      "text/plain": [
       "      CRIM    ZN  INDUS  CHAS    NOX     RM   AGE     DIS  RAD    TAX  \\\n",
       "0  0.00632  18.0   2.31   0.0  0.538  6.575  65.2  4.0900  1.0  296.0   \n",
       "1  0.02731   0.0   7.07   0.0  0.469  6.421  78.9  4.9671  2.0  242.0   \n",
       "2  0.02729   0.0   7.07   0.0  0.469  7.185  61.1  4.9671  2.0  242.0   \n",
       "3  0.03237   0.0   2.18   0.0  0.458  6.998  45.8  6.0622  3.0  222.0   \n",
       "4  0.06905   0.0   2.18   0.0  0.458  7.147  54.2  6.0622  3.0  222.0   \n",
       "\n",
       "   PTRATIO       B  LSTAT  \n",
       "0     15.3  396.90   4.98  \n",
       "1     17.8  396.90   9.14  \n",
       "2     17.8  392.83   4.03  \n",
       "3     18.7  394.63   2.94  \n",
       "4     18.7  396.90   5.33  "
      ]
     },
     "execution_count": 6,
     "metadata": {},
     "output_type": "execute_result"
    }
   ],
   "source": [
    "df_boston.head()"
   ]
  },
  {
   "cell_type": "code",
   "execution_count": 7,
   "metadata": {},
   "outputs": [],
   "source": [
    "#adding the target column\n",
    "df_boston['price'] = dataset_boston.target"
   ]
  },
  {
   "cell_type": "code",
   "execution_count": 8,
   "metadata": {},
   "outputs": [
    {
     "data": {
      "text/html": [
       "<div>\n",
       "<style scoped>\n",
       "    .dataframe tbody tr th:only-of-type {\n",
       "        vertical-align: middle;\n",
       "    }\n",
       "\n",
       "    .dataframe tbody tr th {\n",
       "        vertical-align: top;\n",
       "    }\n",
       "\n",
       "    .dataframe thead th {\n",
       "        text-align: right;\n",
       "    }\n",
       "</style>\n",
       "<table border=\"1\" class=\"dataframe\">\n",
       "  <thead>\n",
       "    <tr style=\"text-align: right;\">\n",
       "      <th></th>\n",
       "      <th>CRIM</th>\n",
       "      <th>ZN</th>\n",
       "      <th>INDUS</th>\n",
       "      <th>CHAS</th>\n",
       "      <th>NOX</th>\n",
       "      <th>RM</th>\n",
       "      <th>AGE</th>\n",
       "      <th>DIS</th>\n",
       "      <th>RAD</th>\n",
       "      <th>TAX</th>\n",
       "      <th>PTRATIO</th>\n",
       "      <th>B</th>\n",
       "      <th>LSTAT</th>\n",
       "      <th>price</th>\n",
       "    </tr>\n",
       "  </thead>\n",
       "  <tbody>\n",
       "    <tr>\n",
       "      <th>0</th>\n",
       "      <td>0.00632</td>\n",
       "      <td>18.0</td>\n",
       "      <td>2.31</td>\n",
       "      <td>0.0</td>\n",
       "      <td>0.538</td>\n",
       "      <td>6.575</td>\n",
       "      <td>65.2</td>\n",
       "      <td>4.0900</td>\n",
       "      <td>1.0</td>\n",
       "      <td>296.0</td>\n",
       "      <td>15.3</td>\n",
       "      <td>396.90</td>\n",
       "      <td>4.98</td>\n",
       "      <td>24.0</td>\n",
       "    </tr>\n",
       "    <tr>\n",
       "      <th>1</th>\n",
       "      <td>0.02731</td>\n",
       "      <td>0.0</td>\n",
       "      <td>7.07</td>\n",
       "      <td>0.0</td>\n",
       "      <td>0.469</td>\n",
       "      <td>6.421</td>\n",
       "      <td>78.9</td>\n",
       "      <td>4.9671</td>\n",
       "      <td>2.0</td>\n",
       "      <td>242.0</td>\n",
       "      <td>17.8</td>\n",
       "      <td>396.90</td>\n",
       "      <td>9.14</td>\n",
       "      <td>21.6</td>\n",
       "    </tr>\n",
       "    <tr>\n",
       "      <th>2</th>\n",
       "      <td>0.02729</td>\n",
       "      <td>0.0</td>\n",
       "      <td>7.07</td>\n",
       "      <td>0.0</td>\n",
       "      <td>0.469</td>\n",
       "      <td>7.185</td>\n",
       "      <td>61.1</td>\n",
       "      <td>4.9671</td>\n",
       "      <td>2.0</td>\n",
       "      <td>242.0</td>\n",
       "      <td>17.8</td>\n",
       "      <td>392.83</td>\n",
       "      <td>4.03</td>\n",
       "      <td>34.7</td>\n",
       "    </tr>\n",
       "    <tr>\n",
       "      <th>3</th>\n",
       "      <td>0.03237</td>\n",
       "      <td>0.0</td>\n",
       "      <td>2.18</td>\n",
       "      <td>0.0</td>\n",
       "      <td>0.458</td>\n",
       "      <td>6.998</td>\n",
       "      <td>45.8</td>\n",
       "      <td>6.0622</td>\n",
       "      <td>3.0</td>\n",
       "      <td>222.0</td>\n",
       "      <td>18.7</td>\n",
       "      <td>394.63</td>\n",
       "      <td>2.94</td>\n",
       "      <td>33.4</td>\n",
       "    </tr>\n",
       "    <tr>\n",
       "      <th>4</th>\n",
       "      <td>0.06905</td>\n",
       "      <td>0.0</td>\n",
       "      <td>2.18</td>\n",
       "      <td>0.0</td>\n",
       "      <td>0.458</td>\n",
       "      <td>7.147</td>\n",
       "      <td>54.2</td>\n",
       "      <td>6.0622</td>\n",
       "      <td>3.0</td>\n",
       "      <td>222.0</td>\n",
       "      <td>18.7</td>\n",
       "      <td>396.90</td>\n",
       "      <td>5.33</td>\n",
       "      <td>36.2</td>\n",
       "    </tr>\n",
       "  </tbody>\n",
       "</table>\n",
       "</div>"
      ],
      "text/plain": [
       "      CRIM    ZN  INDUS  CHAS    NOX     RM   AGE     DIS  RAD    TAX  \\\n",
       "0  0.00632  18.0   2.31   0.0  0.538  6.575  65.2  4.0900  1.0  296.0   \n",
       "1  0.02731   0.0   7.07   0.0  0.469  6.421  78.9  4.9671  2.0  242.0   \n",
       "2  0.02729   0.0   7.07   0.0  0.469  7.185  61.1  4.9671  2.0  242.0   \n",
       "3  0.03237   0.0   2.18   0.0  0.458  6.998  45.8  6.0622  3.0  222.0   \n",
       "4  0.06905   0.0   2.18   0.0  0.458  7.147  54.2  6.0622  3.0  222.0   \n",
       "\n",
       "   PTRATIO       B  LSTAT  price  \n",
       "0     15.3  396.90   4.98   24.0  \n",
       "1     17.8  396.90   9.14   21.6  \n",
       "2     17.8  392.83   4.03   34.7  \n",
       "3     18.7  394.63   2.94   33.4  \n",
       "4     18.7  396.90   5.33   36.2  "
      ]
     },
     "execution_count": 8,
     "metadata": {},
     "output_type": "execute_result"
    }
   ],
   "source": [
    "df_boston.head()"
   ]
  },
  {
   "cell_type": "code",
   "execution_count": 9,
   "metadata": {},
   "outputs": [
    {
     "data": {
      "text/html": [
       "<div>\n",
       "<style scoped>\n",
       "    .dataframe tbody tr th:only-of-type {\n",
       "        vertical-align: middle;\n",
       "    }\n",
       "\n",
       "    .dataframe tbody tr th {\n",
       "        vertical-align: top;\n",
       "    }\n",
       "\n",
       "    .dataframe thead th {\n",
       "        text-align: right;\n",
       "    }\n",
       "</style>\n",
       "<table border=\"1\" class=\"dataframe\">\n",
       "  <thead>\n",
       "    <tr style=\"text-align: right;\">\n",
       "      <th></th>\n",
       "      <th>count</th>\n",
       "      <th>mean</th>\n",
       "      <th>std</th>\n",
       "      <th>min</th>\n",
       "      <th>25%</th>\n",
       "      <th>50%</th>\n",
       "      <th>75%</th>\n",
       "      <th>max</th>\n",
       "    </tr>\n",
       "  </thead>\n",
       "  <tbody>\n",
       "    <tr>\n",
       "      <th>CRIM</th>\n",
       "      <td>506.0</td>\n",
       "      <td>3.613524</td>\n",
       "      <td>8.601545</td>\n",
       "      <td>0.00632</td>\n",
       "      <td>0.082045</td>\n",
       "      <td>0.25651</td>\n",
       "      <td>3.677083</td>\n",
       "      <td>88.9762</td>\n",
       "    </tr>\n",
       "    <tr>\n",
       "      <th>ZN</th>\n",
       "      <td>506.0</td>\n",
       "      <td>11.363636</td>\n",
       "      <td>23.322453</td>\n",
       "      <td>0.00000</td>\n",
       "      <td>0.000000</td>\n",
       "      <td>0.00000</td>\n",
       "      <td>12.500000</td>\n",
       "      <td>100.0000</td>\n",
       "    </tr>\n",
       "    <tr>\n",
       "      <th>INDUS</th>\n",
       "      <td>506.0</td>\n",
       "      <td>11.136779</td>\n",
       "      <td>6.860353</td>\n",
       "      <td>0.46000</td>\n",
       "      <td>5.190000</td>\n",
       "      <td>9.69000</td>\n",
       "      <td>18.100000</td>\n",
       "      <td>27.7400</td>\n",
       "    </tr>\n",
       "    <tr>\n",
       "      <th>CHAS</th>\n",
       "      <td>506.0</td>\n",
       "      <td>0.069170</td>\n",
       "      <td>0.253994</td>\n",
       "      <td>0.00000</td>\n",
       "      <td>0.000000</td>\n",
       "      <td>0.00000</td>\n",
       "      <td>0.000000</td>\n",
       "      <td>1.0000</td>\n",
       "    </tr>\n",
       "    <tr>\n",
       "      <th>NOX</th>\n",
       "      <td>506.0</td>\n",
       "      <td>0.554695</td>\n",
       "      <td>0.115878</td>\n",
       "      <td>0.38500</td>\n",
       "      <td>0.449000</td>\n",
       "      <td>0.53800</td>\n",
       "      <td>0.624000</td>\n",
       "      <td>0.8710</td>\n",
       "    </tr>\n",
       "    <tr>\n",
       "      <th>RM</th>\n",
       "      <td>506.0</td>\n",
       "      <td>6.284634</td>\n",
       "      <td>0.702617</td>\n",
       "      <td>3.56100</td>\n",
       "      <td>5.885500</td>\n",
       "      <td>6.20850</td>\n",
       "      <td>6.623500</td>\n",
       "      <td>8.7800</td>\n",
       "    </tr>\n",
       "    <tr>\n",
       "      <th>AGE</th>\n",
       "      <td>506.0</td>\n",
       "      <td>68.574901</td>\n",
       "      <td>28.148861</td>\n",
       "      <td>2.90000</td>\n",
       "      <td>45.025000</td>\n",
       "      <td>77.50000</td>\n",
       "      <td>94.075000</td>\n",
       "      <td>100.0000</td>\n",
       "    </tr>\n",
       "    <tr>\n",
       "      <th>DIS</th>\n",
       "      <td>506.0</td>\n",
       "      <td>3.795043</td>\n",
       "      <td>2.105710</td>\n",
       "      <td>1.12960</td>\n",
       "      <td>2.100175</td>\n",
       "      <td>3.20745</td>\n",
       "      <td>5.188425</td>\n",
       "      <td>12.1265</td>\n",
       "    </tr>\n",
       "    <tr>\n",
       "      <th>RAD</th>\n",
       "      <td>506.0</td>\n",
       "      <td>9.549407</td>\n",
       "      <td>8.707259</td>\n",
       "      <td>1.00000</td>\n",
       "      <td>4.000000</td>\n",
       "      <td>5.00000</td>\n",
       "      <td>24.000000</td>\n",
       "      <td>24.0000</td>\n",
       "    </tr>\n",
       "    <tr>\n",
       "      <th>TAX</th>\n",
       "      <td>506.0</td>\n",
       "      <td>408.237154</td>\n",
       "      <td>168.537116</td>\n",
       "      <td>187.00000</td>\n",
       "      <td>279.000000</td>\n",
       "      <td>330.00000</td>\n",
       "      <td>666.000000</td>\n",
       "      <td>711.0000</td>\n",
       "    </tr>\n",
       "    <tr>\n",
       "      <th>PTRATIO</th>\n",
       "      <td>506.0</td>\n",
       "      <td>18.455534</td>\n",
       "      <td>2.164946</td>\n",
       "      <td>12.60000</td>\n",
       "      <td>17.400000</td>\n",
       "      <td>19.05000</td>\n",
       "      <td>20.200000</td>\n",
       "      <td>22.0000</td>\n",
       "    </tr>\n",
       "    <tr>\n",
       "      <th>B</th>\n",
       "      <td>506.0</td>\n",
       "      <td>356.674032</td>\n",
       "      <td>91.294864</td>\n",
       "      <td>0.32000</td>\n",
       "      <td>375.377500</td>\n",
       "      <td>391.44000</td>\n",
       "      <td>396.225000</td>\n",
       "      <td>396.9000</td>\n",
       "    </tr>\n",
       "    <tr>\n",
       "      <th>LSTAT</th>\n",
       "      <td>506.0</td>\n",
       "      <td>12.653063</td>\n",
       "      <td>7.141062</td>\n",
       "      <td>1.73000</td>\n",
       "      <td>6.950000</td>\n",
       "      <td>11.36000</td>\n",
       "      <td>16.955000</td>\n",
       "      <td>37.9700</td>\n",
       "    </tr>\n",
       "    <tr>\n",
       "      <th>price</th>\n",
       "      <td>506.0</td>\n",
       "      <td>22.532806</td>\n",
       "      <td>9.197104</td>\n",
       "      <td>5.00000</td>\n",
       "      <td>17.025000</td>\n",
       "      <td>21.20000</td>\n",
       "      <td>25.000000</td>\n",
       "      <td>50.0000</td>\n",
       "    </tr>\n",
       "  </tbody>\n",
       "</table>\n",
       "</div>"
      ],
      "text/plain": [
       "         count        mean         std        min         25%        50%  \\\n",
       "CRIM     506.0    3.613524    8.601545    0.00632    0.082045    0.25651   \n",
       "ZN       506.0   11.363636   23.322453    0.00000    0.000000    0.00000   \n",
       "INDUS    506.0   11.136779    6.860353    0.46000    5.190000    9.69000   \n",
       "CHAS     506.0    0.069170    0.253994    0.00000    0.000000    0.00000   \n",
       "NOX      506.0    0.554695    0.115878    0.38500    0.449000    0.53800   \n",
       "RM       506.0    6.284634    0.702617    3.56100    5.885500    6.20850   \n",
       "AGE      506.0   68.574901   28.148861    2.90000   45.025000   77.50000   \n",
       "DIS      506.0    3.795043    2.105710    1.12960    2.100175    3.20745   \n",
       "RAD      506.0    9.549407    8.707259    1.00000    4.000000    5.00000   \n",
       "TAX      506.0  408.237154  168.537116  187.00000  279.000000  330.00000   \n",
       "PTRATIO  506.0   18.455534    2.164946   12.60000   17.400000   19.05000   \n",
       "B        506.0  356.674032   91.294864    0.32000  375.377500  391.44000   \n",
       "LSTAT    506.0   12.653063    7.141062    1.73000    6.950000   11.36000   \n",
       "price    506.0   22.532806    9.197104    5.00000   17.025000   21.20000   \n",
       "\n",
       "                75%       max  \n",
       "CRIM       3.677083   88.9762  \n",
       "ZN        12.500000  100.0000  \n",
       "INDUS     18.100000   27.7400  \n",
       "CHAS       0.000000    1.0000  \n",
       "NOX        0.624000    0.8710  \n",
       "RM         6.623500    8.7800  \n",
       "AGE       94.075000  100.0000  \n",
       "DIS        5.188425   12.1265  \n",
       "RAD       24.000000   24.0000  \n",
       "TAX      666.000000  711.0000  \n",
       "PTRATIO   20.200000   22.0000  \n",
       "B        396.225000  396.9000  \n",
       "LSTAT     16.955000   37.9700  \n",
       "price     25.000000   50.0000  "
      ]
     },
     "execution_count": 9,
     "metadata": {},
     "output_type": "execute_result"
    }
   ],
   "source": [
    "df_boston.describe().transpose()"
   ]
  },
  {
   "cell_type": "code",
   "execution_count": 10,
   "metadata": {},
   "outputs": [
    {
     "name": "stdout",
     "output_type": "stream",
     "text": [
      ".. _boston_dataset:\n",
      "\n",
      "Boston house prices dataset\n",
      "---------------------------\n",
      "\n",
      "**Data Set Characteristics:**  \n",
      "\n",
      "    :Number of Instances: 506 \n",
      "\n",
      "    :Number of Attributes: 13 numeric/categorical predictive. Median Value (attribute 14) is usually the target.\n",
      "\n",
      "    :Attribute Information (in order):\n",
      "        - CRIM     per capita crime rate by town\n",
      "        - ZN       proportion of residential land zoned for lots over 25,000 sq.ft.\n",
      "        - INDUS    proportion of non-retail business acres per town\n",
      "        - CHAS     Charles River dummy variable (= 1 if tract bounds river; 0 otherwise)\n",
      "        - NOX      nitric oxides concentration (parts per 10 million)\n",
      "        - RM       average number of rooms per dwelling\n",
      "        - AGE      proportion of owner-occupied units built prior to 1940\n",
      "        - DIS      weighted distances to five Boston employment centres\n",
      "        - RAD      index of accessibility to radial highways\n",
      "        - TAX      full-value property-tax rate per $10,000\n",
      "        - PTRATIO  pupil-teacher ratio by town\n",
      "        - B        1000(Bk - 0.63)^2 where Bk is the proportion of blacks by town\n",
      "        - LSTAT    % lower status of the population\n",
      "        - MEDV     Median value of owner-occupied homes in $1000's\n",
      "\n",
      "    :Missing Attribute Values: None\n",
      "\n",
      "    :Creator: Harrison, D. and Rubinfeld, D.L.\n",
      "\n",
      "This is a copy of UCI ML housing dataset.\n",
      "https://archive.ics.uci.edu/ml/machine-learning-databases/housing/\n",
      "\n",
      "\n",
      "This dataset was taken from the StatLib library which is maintained at Carnegie Mellon University.\n",
      "\n",
      "The Boston house-price data of Harrison, D. and Rubinfeld, D.L. 'Hedonic\n",
      "prices and the demand for clean air', J. Environ. Economics & Management,\n",
      "vol.5, 81-102, 1978.   Used in Belsley, Kuh & Welsch, 'Regression diagnostics\n",
      "...', Wiley, 1980.   N.B. Various transformations are used in the table on\n",
      "pages 244-261 of the latter.\n",
      "\n",
      "The Boston house-price data has been used in many machine learning papers that address regression\n",
      "problems.   \n",
      "     \n",
      ".. topic:: References\n",
      "\n",
      "   - Belsley, Kuh & Welsch, 'Regression diagnostics: Identifying Influential Data and Sources of Collinearity', Wiley, 1980. 244-261.\n",
      "   - Quinlan,R. (1993). Combining Instance-Based and Model-Based Learning. In Proceedings on the Tenth International Conference of Machine Learning, 236-243, University of Massachusetts, Amherst. Morgan Kaufmann.\n",
      "\n"
     ]
    }
   ],
   "source": [
    "#description to see what columns mean\n",
    "print(dataset_boston.DESCR)"
   ]
  },
  {
   "cell_type": "code",
   "execution_count": 11,
   "metadata": {},
   "outputs": [
    {
     "data": {
      "text/plain": [
       "<matplotlib.axes._subplots.AxesSubplot at 0x7fb331e73f40>"
      ]
     },
     "execution_count": 11,
     "metadata": {},
     "output_type": "execute_result"
    },
    {
     "data": {
      "image/png": "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\n",
      "text/plain": [
       "<Figure size 1080x720 with 2 Axes>"
      ]
     },
     "metadata": {
      "needs_background": "light"
     },
     "output_type": "display_data"
    }
   ],
   "source": [
    "# test correlation in dataset\n",
    "boston_corr = df_boston.corr()\n",
    "f, ax = plt.subplots(figsize=(15, 10))\n",
    "sns.heatmap(boston_corr, annot=True)"
   ]
  },
  {
   "cell_type": "code",
   "execution_count": 12,
   "metadata": {},
   "outputs": [
    {
     "data": {
      "text/plain": [
       "price      1.000000\n",
       "RM         0.695360\n",
       "ZN         0.360445\n",
       "B          0.333461\n",
       "DIS        0.249929\n",
       "CHAS       0.175260\n",
       "AGE       -0.376955\n",
       "RAD       -0.381626\n",
       "CRIM      -0.388305\n",
       "NOX       -0.427321\n",
       "TAX       -0.468536\n",
       "INDUS     -0.483725\n",
       "PTRATIO   -0.507787\n",
       "LSTAT     -0.737663\n",
       "Name: price, dtype: float64"
      ]
     },
     "execution_count": 12,
     "metadata": {},
     "output_type": "execute_result"
    }
   ],
   "source": [
    "boston_corr['price'].sort_values(ascending=False)\n",
    "#observe positive correlation between price and average rooms\n",
    "#negative correlation between % lower status of population"
   ]
  },
  {
   "cell_type": "markdown",
   "metadata": {},
   "source": [
    "## Data scaling"
   ]
  },
  {
   "cell_type": "code",
   "execution_count": 13,
   "metadata": {},
   "outputs": [],
   "source": [
    "from sklearn import preprocessing\n",
    "from pylab import rcParams\n",
    "rcParams['figure.figsize'] = 12,8"
   ]
  },
  {
   "cell_type": "code",
   "execution_count": 14,
   "metadata": {},
   "outputs": [],
   "source": [
    "x_rm = preprocessing.scale(df_boston['RM'])\n",
    "x_LSTAT = preprocessing.scale(df_boston['LSTAT'])\n",
    "y= preprocessing.scale(df_boston['price'])"
   ]
  },
  {
   "cell_type": "code",
   "execution_count": 15,
   "metadata": {},
   "outputs": [],
   "source": [
    "# Scaled data has zero mean and unit variance:"
   ]
  },
  {
   "cell_type": "code",
   "execution_count": 16,
   "metadata": {},
   "outputs": [
    {
     "data": {
      "image/png": "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\n",
      "text/plain": [
       "<Figure size 864x576 with 1 Axes>"
      ]
     },
     "metadata": {
      "needs_background": "light"
     },
     "output_type": "display_data"
    }
   ],
   "source": [
    "plt.scatter(y, x_rm, s= 5, label = 'RM')\n",
    "plt.scatter(y, x_LSTAT, s=5, label='LSTAT')\n",
    "plt.legend(fontsize= 10)\n",
    "plt.xlabel('Average number of rooms & Low status population', fontsize=15)\n",
    "plt.ylabel('Price', fontsize=15)\n",
    "plt.legend()\n",
    "plt.show()"
   ]
  },
  {
   "cell_type": "markdown",
   "metadata": {},
   "source": [
    "## performing Gradient Decent from scratch"
   ]
  },
  {
   "cell_type": "markdown",
   "metadata": {},
   "source": [
    "### steps:\n",
    "1) add columns of ones to X\n",
    "2) guess random starting point\n",
    "3) predict (i)\n",
    "4) error(mx1)\n",
    "5) cost function\n",
    "6) update theta\n",
    "7) repeat till no change in cost function"
   ]
  },
  {
   "cell_type": "code",
   "execution_count": 17,
   "metadata": {},
   "outputs": [],
   "source": [
    "x = np.c_[np.ones(x_rm.shape[0]),x_rm, x_LSTAT]"
   ]
  },
  {
   "cell_type": "code",
   "execution_count": 18,
   "metadata": {},
   "outputs": [
    {
     "name": "stdout",
     "output_type": "stream",
     "text": [
      "[ 1.          0.41367189 -1.0755623 ]\n",
     ]
    }
   ],
   "source": [
    "for i in x:\n",
    "    print(i)"
   ]
  },
  {
   "cell_type": "code",
   "execution_count": 19,
   "metadata": {},
   "outputs": [
    {
     "data": {
      "text/plain": [
       "(506, 3)"
      ]
     },
     "execution_count": 19,
     "metadata": {},
     "output_type": "execute_result"
    }
   ],
   "source": [
    "#step 1\n",
    "x.shape"
   ]
  },
  {
   "cell_type": "code",
   "execution_count": 20,
   "metadata": {},
   "outputs": [],
   "source": [
    "#parameters for graduent decent\n",
    "alpha = 0.01 #also known as learningrate\n",
    "n = y.size #number of samples\n",
    "np.random.seed(10)\n",
    "theta = np.random.rand(3)# starting with random values"
   ]
  },
  {
   "cell_type": "code",
   "execution_count": 21,
   "metadata": {},
   "outputs": [
    {
     "data": {
      "text/plain": [
       "array([0.77132064, 0.02075195, 0.63364823])"
      ]
     },
     "execution_count": 21,
     "metadata": {},
     "output_type": "execute_result"
    }
   ],
   "source": [
    "#random values\n",
    "theta"
   ]
  },
  {
   "cell_type": "markdown",
   "metadata": {},
   "source": [
    "### Gradient Descent Algorithem Implementation"
   ]
  },
  {
   "cell_type": "code",
   "execution_count": 22,
   "metadata": {},
   "outputs": [],
   "source": [
    "def GDA(x, y, alpha, n, theta):\n",
    "    cost_array = []\n",
    "    theta_array = []\n",
    "    prediction_array = []\n",
    "    run = True\n",
    "    cost_array.append(1e10)\n",
    "    i = 0\n",
    "    iterations = i\n",
    "    while run:\n",
    "        prediction = np.dot(x, theta) #predicted y values theta_0*x0+theta_1*x1\n",
    "        prediction_array.append(prediction)\n",
    "        error = prediction-y\n",
    "        cost = 1/(2*n)* np.dot(error.T, error) #  (1/2m)*sum[(error)^2]\n",
    "        cost_array.append(cost)\n",
    "        theta = theta - (alpha * (1/n) * np.dot(x.T, error))\n",
    "        theta_array.append(theta)\n",
    "        if cost_array[i] == cost_array[i+1]:\n",
    "            run = False\n",
    "        i+=1\n",
    "    cost_array.pop(0)\n",
    "    print('i: ',cost_array[-1])\n",
    "    print('i+1: ',cost_array[-2])\n",
    "    return prediction_array,cost_array, theta_array, i"
   ]
  },
  {
   "cell_type": "code",
   "execution_count": 23,
   "metadata": {},
   "outputs": [
    {
     "name": "stdout",
     "output_type": "stream",
     "text": [
      "i:  0.1807191968698395\n",
      "i+1:  0.1807191968698395\n",
      "3799\n"
     ]
    }
   ],
   "source": [
    "prediction_array, cost_array, theta_array, i= GDA(x, y, alpha, n, theta)\n",
    "#number of iterations\n",
    "theta = theta_array[-1]\n",
    "print(i)"
   ]
  },
  {
   "cell_type": "code",
   "execution_count": 24,
   "metadata": {},
   "outputs": [],
   "source": [
    "# Cost function minimized at 3799 iterations where global minimum is found"
   ]
  },
  {
   "cell_type": "code",
   "execution_count": 25,
   "metadata": {},
   "outputs": [
    {
     "data": {
      "image/png": "iVBORw0KGgoAAAANSUhEUgAAAtoAAAIGCAYAAABqEihnAAAABHNCSVQICAgIfAhkiAAAAAlwSFlzAAALEgAACxIB0t1+/AAAADh0RVh0U29mdHdhcmUAbWF0cGxvdGxpYiB2ZXJzaW9uMy4yLjIsIGh0dHA6Ly9tYXRwbG90bGliLm9yZy+WH4yJAAAgAElEQVR4nOzdeZxkZXn3/89VVb3MxsDADCLboKJIXAAnqNEoaoKDSUTUKCRGcSOJ0Sc+0USNRo1bEqOJcX/IL4gmKqJRgysugMYFZXBhB0cY9n1fZuvu6/fHOTVTNN093dNVdbr7fN6vV9lV55w6ffVtjX777uvcJzITSZIkSd3VqLoASZIkaSEyaEuSJEk9YNCWJEmSesCgLUmSJPWAQVuSJEnqAYO2JEmS1AMGbUnSghERqyMiy8fJVdcjqd5aVRcgqT4iYm/gecAzgIOBPYAlwJ3ANcA5wDeAr2Xmlqrq3JGIOAR4Tvnyy5n5iy6ddwOw/wze8j+Z+ZwdHza/RcTby6cbMvPkCkupXPnLw0vKly+t+3hIc51BW1LPRcRy4F3AK4GhCQ7Zo3wcUh5zc0S8C/hYZm7tW6HTdwjwtvL5BqArQVuTao/194CTK6xDkmbEoC2ppyLiYcBXgIM6Nv8U+DZFSL0T2B14KLAWeBSwEvg34DzgrP5VO6f8KXDTDo65vh+FzCeZuQGIquuQJDBoS+qhiNgd+C6wX7npPODPMvPHk7zlryPicODdwO/0ocS57FtlaJQkzVMGbUm99Em2h+wfA2sz866p3pCZPwV+NyL+LzAX20YkSZoWVx2R1BMR8UTg98qXdwPH7Shkd8rMf83MH05x/sdHxIkRcWlE3B0R90bEryPikxHx9GnWeER5/KURcU9EbImIGyLigog4LSJeX17A2T7++IhI4BMdp/lExyoX7ceG6f6c3RIRZ7W//2yPjYi3d/wsR5TbnhARn46IKyNic0TcFBFfjYi1M6jxweW5f1CO85byv7sLIuKkiDg6Ilodx4+v8akTjPW2Gsv3THvVkYhoRcQrIuLrEXFd+XPdGhHrIuJdEbHXDt5/fMf3Or7cdnBE/L/ys7ixPN93I+K4iLClRaoZZ7Ql9cprO55/IjOv7MZJyyD2UYqLJsd7SPl4cUScChyfmRsnOEcD+H/AKyY4x57l4zeAPwD24f4/S+1ExJuBd3D/yZmVFL9I/V5EvCMz3zbhm7ef440UFzUOj9s1QDHWvwG8FDie4i8hPRURDwdOAx4xbteK8vE44LUR8arM/NQ0z3k88HHuf8HvMPD08vFMip9PUk0YtCV1XTlz94yOTf/ZxdP/J3Bs+XwTRSj7ETAKrAFeDiwDXgAsj4ijMnP8zO1r2B6y7wD+C/g5xYWZi4HVwOOBp4173xnAMRSh6TXltg+V2zvdt3M/2px0AnAccC3Fih8XAoMUF66+kOLCw7dGxPcyc/w4ABARHwJe3bHpdOCbwHUUofRAijH9Le5/IeMx5dcvlV8vBN4ywbe4YCY/UETsA/yA4pcFgPUUP9t6YDfg2cBRFEtPnhwRo5n56R2c9ijg+RSfoY9QfJ4SeArFLxADwEsi4vuZedJM6pU0fxm0JfXCQRQriQBspEvL30XEC9kesm8Enp6ZF3Uc8umI+ABwJnAAxQziqyiCT6f2bPidwOMz87JJvt8uFDPkAGTmVcBVEbFrx2E/y8wv7+SPNB8cR7FCzDGZeW/H9k9GxE+Bfylfv54H/sJBRLyA7SH7duC5mXnWBN/nreUs82B7Q3tcOzoubunSWP8720P2F4AXZebmjv0fL2en/4NiFv9jEXFGZk61yssLKD7nz8zMztViPh0R3wS+WL5+PWDQlmrCHm1JvbB3x/MrM3OkS+d9Q8fzl44L2QCULSrHUswmQrGSSXPcYQ8rv35vspBdnuuubt2MZidcMUk/cvtxVp/quBV44biQ3fZvwFXl86d39lfDthadd3RsOnaSkA1AZl6WmTOanZ6piHgMxWw8FMtLvnhcyG7XcjLwsfLlMuAvdnDqrcDzx4Xs9rm+BLSvN3hkROw788olzUcGbUm9sHvH8zu6ccKIWA0cWr48PzO/Mdmx5col7dnV/Sn6bTu1WzsOjIiBbtS3gH0qM2+faEdmjlHcRAaKFpCHjjvkcWzvgT4rM7/VmxJn5Lkdzz80UQ9/h/ey/Re2505xHMBXM/PXU+zvnO0/eAfnkrRA2Doiab44vOP5dALbt9jeJ/54ipvktH2b4k/9jwS+ExHvA76zg9DVbzu6Yc0tfarj7B3sv7bj+W7j9j254/lp3Sln1qb9OcrMqyLiEorPyUERscsUK+fMZpwkLVAGbUm9cGvH810nPWpmOpdam7TdY5Jjxi/T9gaKEPhgiovVngJsjoh1FH/iPwM4o+Lbv8+VG9bsKNB3tl2MX1Fkn47nF3ennFnbmc/RIyku0nwQMFnQns04SVqgbB2R1AvXdTzff3zv7k5a1vF8on7h8e6Z5L3t23QfCnyY7a0tQ8CTgL+hWBHjmoj4S9c+ZmwW792l4/k9kx7VX+3PwkhmbpnG8ZN+jsaZzThJWqAM2pJ64WLgtvL5IuCQLpzz7o7nS6Zx/NJJ3gtAZt6Uma8BVlEsK/d64Mtsn7FcBXyAYr3thaZf/9vfOfu7dNKj+qv9WWhFxOCURxam/BxJ0lQM2pK6rly3+jsdm/6kC6ftXFrtwGkc33nMdZMdlJlbM/PHmfn+zDyGYtm3l7H9T/2vjIhHz7ja/tvWmjCNALlHj2tpu6bj+SP79D13ZGc/Rwnc0P1yJC1kBm1JvfJvHc9fGhH7z/J8nRcz/u40jj9ykvdOKTO3ZOYnKG5E0/akcYd1tgnMldaSztVdHjzZQRGxG/Dw3pcDwP92PH/2LM7TXvmjG2M97c9RuQzfQeXLS6a4EFKSJmTQltQTmfkj4Ovly2XAZyNiqh7X+4mI10bEb3WcbwPws/LlYyNi0pAUEWso7jQIcCVw7gxKb9vQ8Xx8j3ln3+502lj6oXNN8adPelRxA5/x64r3yrnAJeXzIyLiyKkOnkJ7vLsx1l/seP6aiJjqwsS/Zvv/T/53F763pJoxaEvqpZewvX3gicAPIuIJU70hIg6PiG8B/0rHXQJL/9Tx/JMRcdC4/UTEfsApbP/ft3/OzNGO/XtFxPsi4oApalhc1t72y3GHXNHx/LBJf5j++mbH8zeVM9f3ExHPAv6uXwWVLURv7dh0SkQcMdnxEfGwiPiNCXa1x/ugiFg0y5rOA9prsD8E+MRErTYR8Sdsv0nN3cBHZ/N9JdWTy/tJ6pnMvCUingF8haJd4THAjyPiJxRrWW+guGBuBcXNTtYCk/ZDZ+apEXEMxZ0f9wJ+FhEnAz8GRoE1wMvZvtrFt3hgQBoCXge8LiLOoWhvuJii9WI5xQ1W/ojtd7f8X+AH485xPsUa16uAF0XEzRTrKLfX4d6Ymd+jjzLzJxHxv8BvU9z58mcR8XHgcorxXQscTbFc3X1sv/lPr+v6fER8mOI27LsBZ5a3JD+dond+kOK/+6eVtb8cuHDcab5L8dlZAnwlIj5JsZxeu6Xkp5l5G9N3AsVfR1ZSfJYOK8+5nmI5ymcDv9dx/J/v4PbrkjQhg7aknsrMyyLi8cB7KELUIMUNZB4/xdtuAN7JAwMuFBdW3gO8gmJFkz8vH+N9geL22jlue+fr3ywfkzkT+MPx58jMkYj4O4oVSQYolgTsdCWweorz9spLKGrev/z+/zhu/6XAHwD/3s+iMvM1EXET8BaK//7Xsv026ONNtEze+4EXUQTjZ7D9RkRtTwPOmkE910TEkyluovMIil8C3z3BofdRhOxPT/fcfdDZpz466VGS5gSDtqSey8w7gFdFxHuA51MEpYMpVr9YDNwJXAWcA3wN+HpmjkxyrhGKlUD+gyJsP5VidrtBEdB/CHwiM8+Y5P1XRsTDgGdSXOT4aGA/imXcNlPcwW8d8JnM/OoUP9OJEXEl8GcUM+krKWbLK5OZV0TEoRRLFT4HOADYCvwaOBX4cGbeU8XS4Jn5zoj4FMUdL48sa1tOEWY3AD+h6J8+fYL3XhsRh1H8XM+g+CViCbO4OLL8BfDRFL+cPI9iCcrdKX6Ju4KiFecjmTnpijUV6ewpnytrk0uaRDxwskeSJM1FEfF9ihYbgCdn5g+rrEfS1AzakiTNAxExQNGb3r4GYbfyr0WS5ihXHZEkaX54FdtD9g8N2dLcZ4+2JElzULnM5JEU4fp3gD/u2P2+SoqSNCMGbUmS5qZVwJcm2P7ezPxyv4uRNHMGbUmS5rZNwI0U68V/vN9rtEvaeQvyYsg99tgjV69eXXUZkiRJWuDOPffcWzJz5UT7FuSM9urVq1m3bl3VZUiSJGmBK++pMCFXHZEkSZJ6wKAtSZIk9YBBW5IkSeoBg7YkSZLUAwZtSZIkqQcM2pIkSVIPGLQlSZKkHjBoS5IkST1g0JYkSZJ6wKAtSZIk9YBBW5IkSeoBg7YkSZLUAwZtSZIkqQcM2pIkSVIPGLQlSZKkHjBoS5IkST1g0O6SsbHkzo1b2TwyWnUpkiRJmgMM2l1y/V2beOzff4v/+fl1VZciSZKkOcCg3SWtRgAwMpYVVyJJkqS5wKDdJc0yaI+OjVVciSRJkuYCg3aXOKMtSZKkTgbtLtk+o23QliRJkkG7a1qNYiid0ZYkSRIYtLvGGW1JkiR1Mmh3ybYe7VGDtiRJkgzaXdNoBBGuOiJJkqSCQbuLWo2wR1uSJEmAQburmo2wR1uSJElAxUE7Ik6KiJsi4oIdHPebETESEc/vV207o9VoOKMtSZIkoPoZ7ZOBtVMdEBFN4J+Ab/WjoNlwRluSJEltlQbtzPw+cNsODnsN8N/ATb2vaHaKHm0vhpQkSVL1M9pTioi9gWOAj03j2BMiYl1ErLv55pt7X9wEnNGWJElS25wO2sAHgDdk5g6niTPzxMxck5lrVq5c2YfSHqjVCNfRliRJEgCtqgvYgTXAKREBsAfwrIgYycwvV1vWxJpNZ7QlSZJUmNNBOzMPaD+PiJOBr87VkA2uOiJJkqTtKg3aEfFZ4Ahgj4i4BngbMACQmR+vsLSdYo+2JEmS2ioN2pl53AyOPb6HpXRFqxFsHXXVEUmSJM39iyHnFWe0JUmS1GbQ7qJiHW2DtiRJkgzaXeWMtiRJktoM2l3Uaja8M6QkSZIAg3ZXtZzRliRJUsmg3UVNe7QlSZJUMmh3kTPakiRJajNod1Gz0WBk1KAtSZIkg3ZXOaMtSZKkNoN2FzWb4aojkiRJAgzaXeWMtiRJktoM2l3kqiOSJElqM2h3kTPakiRJajNod1Gz0XBGW5IkSYBBu6uc0ZYkSVKbQbuLmo1gZNRVRyRJkmTQ7ipntCVJktRm0O6iYh1tg7YkSZIM2l3ljLYkSZLaDNpd1F51JNOwLUmSVHcG7S5qNQIAJ7UlSZJk0O6iZhm0R8ZceUSSJKnuDNpd1J7Rtk9bkiRJBu0u2j6jbdCWJEmqO4N2F22b0R41aEuSJNWdQbuLms1iOJ3RliRJkkG7i+zRliRJUptBu4tcdUSSJEltBu0uas9oj9ijLUmSVHsG7S5y1RFJkiS1GbS7qNUohtMebUmSJBm0u8gebUmSJLUZtLtooOmqI5IkSSoYtLvIHm1JkiS1GbS7yB5tSZIktRm0u6jp8n6SJEkqGbS7qGWPtiRJkkoG7S5y1RFJkiS1GbS7qH1nSGe0JUmSZNDuIlcdkSRJUptBu4tcdUSSJEltBu0uckZbkiRJbQbtLtreo+3FkJIkSXVn0O4i19GWJElSm0G7i1xHW5IkSW0G7S6yR1uSJEltBu0uctURSZIktRm0u8gZbUmSJLUZtLvIVUckSZLUZtDuIme0JUmS1GbQ7qJtM9ou7ydJklR7Bu0uas9ob3VGW5IkqfYM2l0UETQbwcioPdqSJEl1V2nQjoiTIuKmiLhgkv1/HBHnRcT5EfGjiHhsv2ucqVYjXN5PkiRJlc9onwysnWL/FcBTM/PRwDuBE/tR1GwMNBtstUdbkiSp9lpVfvPM/H5ErJ5i/486Xp4N7NPrmmar1QxGXN5PkiSp9qqe0Z6JlwPfqLqIHWk1nNGWJElSxTPa0xURT6MI2k+e4pgTgBMA9ttvvz5V9kADTS+GlCRJ0jyY0Y6IxwD/H3B0Zt462XGZeWJmrsnMNStXruxfgeMUrSPOaEuSJNXdnA7aEbEf8EXgTzLzsqrrmY6BRoOtzmhLkiTVXqWtIxHxWeAIYI+IuAZ4GzAAkJkfB94K7A58NCIARjJzTTXVTk+rGYzYoy1JklR7Va86ctwO9r8CeEWfyumKVqPhqiOSJEma260j89FAM1x1RJIkSQbtbms1ndGWJEmSQbvrWg1ntCVJkmTQ7rqBZsN1tCVJkmTQ7jbX0ZYkSRIYtLvOW7BLkiQJDNpd5y3YJUmSBAbtritWHXFGW5Ikqe4M2l020AhvwS5JkiSDdrd5C3ZJkiSBQbvrvGGNJEmSwKDddQPesEaSJEkYtLuu5Q1rJEmShEG761rNYKurjkiSJNWeQbvLBhrOaEuSJMmg3XWtZjCWMOastiRJUq0ZtLtsoFkM6VZXHpEkSao1g3aXtRoB4FrakiRJNWfQ7rJWOaNt0JYkSao3g3aXDTSLGW1bRyRJkurNoN1lrYYz2pIkSTJod12rPaPtEn+SJEm1ZtDusnbryIjL+0mSJNWaQbvLtreOOKMtSZJUZwbtLtt2MaQ92pIkSbVm0O6ybTParjoiSZJUawbtLms5oy1JkiQM2l030LRHW5IkSQbtrtt2C3ZXHZEkSao1g3aXtW/B7jrakiRJ9WbQ7rJtM9r2aEuSJNWaQbvLWttuWOOMtiRJUp0ZtLtsYFvriDPakiRJdWbQ7rLtF0M6oy1JklRnBu0uc0ZbkiRJYNDuum092gZtSZKkWjNod1n7Fuyjto5IkiTVmkG7ywa8BbskSZIwaHdd+4Y1XgwpSZJUbwbtLmuvOuKMtiRJUr0ZtLusveqIF0NKkiTVm0G7y5qNIMLWEUmSpLozaPfAQKNh64gkSVLNGbR7oNUMRkad0ZYkSaozg3YPtBrByJgz2pIkSXVm0O6BgWaDrc5oS5Ik1ZpBuweK1hFntCVJkurMoN0DzmhLkiTJoN0Dg80GW+3RliRJqjWDdg8MNBtsHXFGW5Ikqc4M2j0w0ApbRyRJkmrOoN0DA80GWwzakiRJtWbQ7oGBZoMtto5IkiTVmkG7BwZddUSSJKn2Kg3aEXFSRNwUERdMsj8i4oMRsT4izouIw/pd484YbDXY6jrakiRJtVb1jPbJwNop9h8FHFg+TgA+1oeaZm2g6cWQkiRJdVdp0M7M7wO3TXHI0cCnsnA2sGtE7NWf6naeF0NKkiSp6hntHdkbuLrj9TXltjnNHm1JkiTN9aA9bRFxQkSsi4h1N998c6W1FDessUdbkiSpzuZ60L4W2Lfj9T7ltgfIzBMzc01mrlm5cmVfipuMN6yRJEnSXA/apwEvLlcfeQJwZ2ZeX3VRO+I62pIkSWpV+c0j4rPAEcAeEXEN8DZgACAzPw58HXgWsB64D3hpNZXOzGDLiyElSZLqrtKgnZnH7WB/An/Rp3K6xoshJUmSNNdbR+algWaDsYTRMS+IlCRJqiuDdg8MNIthdVZbkiSpvgzaPTDQDAD7tCVJkmrMoN0Dg61yRtuVRyRJkmrLoN0Dg9taR+zRliRJqiuDdg+0e7RdS1uSJKm+DNo9MFC2jtijLUmSVF8G7R4YLC+GdNURSZKk+jJo94DL+0mSJMmg3QMGbUmSJBm0e2D7xZCuOiJJklRXBu0e2LaOtjPakiRJtWXQ7oFBl/eTJEmqPYN2Dwy0XHVEkiSp7gzaPbCtR9ugLUmSVFsG7R7wFuySJEkyaPeAy/tJkiTJoN0DrjoiSZIkg3YPDJS3YHfVEUmSpPoyaPfAgD3akiRJtWfQ7oEB19GWJEmqPYN2DzQbQbMR9mhLkiTVmEG7RwaaBm1JkqQ6M2j3yECz4Q1rJEmSasyg3SNDrYYz2pIkSTVm0O6RgWaDrSOuOiJJklRXBu0eGWg6oy1JklRnBu0eGWgGmw3akiRJtWXQ7pGidcSgLUmSVFcG7R4Z9GJISZKkWjNo90jRo+3FkJIkSXVl0O6RwWbDW7BLkiTVmEG7RwZbDS+GlCRJqjGDdo8MtRps3jpadRmSJEmqiEG7RwZb3oJdkiSpzmYUtCNiNCL+bgfHvDkiRmZX1vw31GqyeatBW5Ikqa5mOqMd5WM6x9WaM9qSJEn11ovWkd2ATT0477xij7YkSVK9tXZ0QEQ8Zdym1RNsA2gC+wF/DFzahdrmtaEBZ7QlSZLqbIdBGzgLaN95JYGXlI+JBDAGvG7Wlc1zQ80Gm0fGyEwiat9JI0mSVDvTCdrvoAjYAbyVInh/b4LjRoFbgTMz85JuFThfDQ00yYSto8lgy6AtSZJUNzsM2pn59vbziHgJ8OXM/GAvi1oIBptF+/uW0TEGW66iKEmSVDfTmdHeJjMP6FUhC83QQBGuN28dZenQjIZZkiRJC8CMEmBENIGhzLxv3PanA0cD9wEnZuYV3Stxfuqc0ZYkSVL9zLSn4X3AbRGxvL0hIo4Fvg28BngD8NOI2Ld7Jc5P22e0DdqSJEl1NNOg/RSKix3v7Nj2NuAO4MXA3wC7An/VnfLmr8FmE3BGW5Ikqa5mGrT3Bda3X0TEQ4BHAB/KzP/KzPcB3wDWdq/E+Wmo5Yy2JElSnc00aO8C3NXx+kkUS/99s2PbhcA+s6xr3muvNLJ5xLtDSpIk1dFMg/b1QOfKI78DbATO7di2FBiZZV3zXntGe8uIM9qSJEl1NNN1584Gnh0Rvw9sAp4PfDczt3YccwBwbZfqm7e2z2gbtCVJkupopjPa7ynf8z/A6cAg8O72zogYBn4b+Em3CpyvhlrFxZAGbUmSpHqa6Q1rzo+IxwMvKTd9LjPP6TjkUOAM4LNdqm/eskdbkiSp3mZ8y8LMPB94/ST7fgwcM9uiFgJ7tCVJkuptpq0j9xMRyyJi34jYZRbnWBsRl0bE+oh44wT794uIMyPi5xFxXkQ8azY198u2G9YYtCVJkmppxkE7IloR8caIWE9xo5oNwO3toBwR054lL2/p/hHgKOBg4LiIOHjcYW8BTs3MQ4FjgY/OtOYqDDXt0ZYkSaqzGbWORMQgxZrZT6VYP/tqiiX/9gJWU1wYuTYijszMLdM45eHA+sy8vDz/KcDRwEUdxyTF+t0Ay4HrZlJzVdoz2raOSJIk1dNMZ7T/CjgC+BrwyMxcnZlPzMzVFHeI/ArFqiPTvQX73hRhve2acluntwMviohrgK8Dr5lhzZUYbHoxpCRJUp3NNGj/EXAB8JzM/FXnjsz8NfBcijtD/nF3ygPgOODkzNwHeBbwnxHxgLoj4oSIWBcR626++eYufvud02gEA81wRluSJKmmZhq0HwZ8IzMnTI/l9m8AD53m+a4F9u14vQ8PvNnNy4FTy/P/GBgG9pjge5+YmWsyc83KlSun+e17a7DZsEdbkiSppmYatLdQ3GJ9KkuArTs4pu0c4MCIOKDs/z4WOG3cMVcBzwCIiEdSBO3qp6ynYWig6Yy2JElSTc00aJ8HPD8iJpwyjog9KG7L/svpnCwzR4BXU9xl8mKK1UUujIh3RMSzy8NeB7wyIn5JcSOc4zMzZ1h3JYoZbXu0JUmS6mimN6z5MHAK8NOIeBdwJsWqIw+iuEjyLcBK4P9M94SZ+XWKixw7t7214/lFwJNmWOecMDTQcEZbkiSppmZ6C/ZTI+IQ4I3AiRMcEsB7M/PUbhQ339mjLUmSVF87cwv2v42I0yguUjyUYm3rO4GfAyeVFyyKYkbboC1JklRPMw7aAJl5NnB2l2tZcAabto5IkiTV1Q4vhoyIwYj4aUR8NyIGdnDcdyPi7KmOq5OhVtOLISVJkmpqOquOvAh4HPD+zJx02b7yluv/THFb9W7esGbe8mJISZKk+ppO0H4ucHm5OsiUMvObwK+AP5xtYQuBF0NKkiTV13SC9qHAWTM45/eBQ3aqmgXGG9ZIkiTV13SC9h7AjTM4543A7jtXzsIy2Gywaas92pIkSXU0naC9kR3fdr3TUmDTzpWzsAwPNNjkjLYkSVItTSdoXw2smcE51wBX7Vw5C8uigaYz2pIkSTU1naB9FvDEiNhh2I6IxwG/RXFr9tobLoN2ZlZdiiRJkvpsOkH7w0ACn4+IR052UEQcBHweGAU+2p3y5rfhgQZjCVtHDdqSJEl1s8M7Q2bmpRHxDuDtwM8j4gvAGcA15SF7A88AngcMAW/NzEt7U+78MjzQBGDj1lEGW9P5nUaSJEkLxbRuwZ6Z74iIEeBtwB8Bx407JICtwJsz8x+6W+L81Q7am7eOwiJvlilJklQn0wraAJn5noj4NPAy4EnAXuWu64EfAJ/IzCu7X+L81Q7am7a68ogkSVLdTDtoA5RB+m09qmXBGR4o2kU2jbjyiCRJUt3YONxDw62yR3uLQVuSJKluDNo9tGiw3Tpi0JYkSaobg3YPbW8dsUdbkiSpbgzaPTTUckZbkiSprgzaPbR91RGDtiRJUt0YtHvIHm1JkqT6Mmj30HB5N0jX0ZYkSaofg3YP2ToiSZJUXwbtHmoH7Y0GbUmSpNoxaPdQsxEMNhu2jkiSJNWQQbvHhgYato5IkiTVkEG7x4YHmmweMWhLkiTVjUG7x4YHGmzcYtCWJEmqG4N2jy0aaNqjLUmSVEMG7R4bHmiyydYRSZKk2jFo99hwq2nriCRJUg0ZtHtsaKDBphFbRyRJkurGoN1jiwaabHZ5P0mSpNoxaPfY8EDTdbQlSZJqyKDdY8MDDW/BLkmSVEMG7R4bdnk/SZKkWjJo99giW0ckSZJqyaDdY0MDTTaPjDE2llWXIkmSpD4yaPfYksEmgH3akiRJNWPQ7rHFZdC+z5vWSJIk1YpBu8cWDbYAuG/LSMWVSJIkqZ8M2j22xBltSZKkWjJo99gig7YkSVItGbR7bLGtI5IkSbVk0O4xL4aUJEmqJ4N2j7WD9kaDtiRJUq0YtHus3Tpyr60jkiRJtWLQ7rHFQ85oS2zZzvsAABybSURBVJIk1ZFBu8cWD9ijLUmSVEcG7R5rNRsMNhu2jkiSJNWMQbsPFg81bR2RJEmqGYN2HyweaNo6IkmSVDMG7T5YNNj0hjWSJEk1U3nQjoi1EXFpRKyPiDdOcswLIuKiiLgwIj7T7xpna8lQyxltSZKkmmlV+c0jogl8BPhd4BrgnIg4LTMv6jjmQOBNwJMy8/aIWFVNtTtvka0jkiRJtVP1jPbhwPrMvDwztwCnAEePO+aVwEcy83aAzLypzzXO2mJbRyRJkmqn6qC9N3B1x+trym2dHg48PCJ+GBFnR8TavlXXJYttHZEkSaqdSltHpqkFHAgcAewDfD8iHp2Zd3QeFBEnACcA7Lfffv2ucUqLB1zeT5IkqW6qntG+Fti34/U+5bZO1wCnZebWzLwCuIwieN9PZp6YmWsyc83KlSt7VvDOWDzY5N7Nto5IkiTVSdVB+xzgwIg4ICIGgWOB08Yd82WK2WwiYg+KVpLL+1nkbC0earFxqzPakiRJdVJp0M7MEeDVwOnAxcCpmXlhRLwjIp5dHnY6cGtEXAScCfx1Zt5aTcU7Z/FAk62jyZaRsapLkSRJUp9U3qOdmV8Hvj5u21s7nifwV+VjXlo02ARg45ZRBltV/xFBkiRJ/WDq64MlQ8XvM/e6xJ8kSVJtGLT7oB20XUtbkiSpPgzafbCsDNp3bzJoS5Ik1YVBuw+WDhdB+x6X+JMkSaoNg3YfLC1ntO9xRluSJKk2DNp90A7adzujLUmSVBsG7T5YNuyMtiRJUt0YtPtg2/J+zmhLkiTVhkG7DwaaDYZaDS+GlCRJqhGDdp8sG27Zoy1JklQjBu0+WTrUskdbkiSpRgzafbJ0uGXriCRJUo0YtPvEGW1JkqR6MWj3ydKhAXu0JUmSasSg3SfLhlvcs3lr1WVIkiSpTwzafbJ0qMW9m0erLkOSJEl9YtDuk6XD9mhLkiTViUG7T5YOtdgyOsbmEWe1JUmS6sCg3SfLhovbsDurLUmSVA8G7T5ZMlgGbVcekSRJqgWDdp8sLWe073ZGW5IkqRYM2n2ybMigLUmSVCcG7T7ZZdEAAHdtci1tSZKkOjBo98nyMmjfudGgLUmSVAcG7T5Zvric0TZoS5Ik1YJBu0+WDrZohDPakiRJdWHQ7pNGI1g2PGDQliRJqgmDdh8tX2TQliRJqguDdh8ZtCVJkurDoN1HBm1JkqT6MGj3kUFbkiSpPgzafbTLogGX95MkSaoJg3YftWe0M7PqUiRJktRjBu0+Wr5ogK2jyaatY1WXIkmSpB4zaPeRt2GXJEmqD4N2Hxm0JUmS6sOg3UcGbUmSpPowaPfRLotagEFbkiSpDgzafbTrokEA7rhvS8WVSJIkqdcM2n2025KideR2g7YkSdKCZ9Duo6VDLQabDW6916AtSZK00Bm0+ygiWLFkkNsN2pIkSQueQbvPdlsyyG0GbUmSpAXPoN1nuy8ZtHVEkiSpBgzafWbriCRJUj0YtPtshTPakiRJtWDQ7rMVSwa5e9MIW0fHqi5FkiRJPWTQ7rPdlhQ3rbF9RJIkaWEzaPfZ7mXQtn1EkiRpYTNo99kKZ7QlSZJqwaDdZyuc0ZYkSaoFg3afbZvRvs+gLUmStJAZtPtst8WDNAJuuXtz1aVIkiSphwzafdZsBCuWDHHzPQZtSZKkhazyoB0RayPi0ohYHxFvnOK450VERsSaftbXC6uWDXHTXQZtSZKkhazSoB0RTeAjwFHAwcBxEXHwBMctA/4S+El/K+yNVbsMcZOtI5IkSQta1TPahwPrM/PyzNwCnAIcPcFx7wT+CdjUz+J6ZdWyIW66e0H8KJIkSZpE1UF7b+DqjtfXlNu2iYjDgH0z82tTnSgiToiIdRGx7uabb+5+pV20atkwN9+9mdGxrLoUSZIk9UjVQXtKEdEA/gV43Y6OzcwTM3NNZq5ZuXJl74ubhVW7DDGWcOu9to9IkiQtVFUH7WuBfTte71Nua1sGPAo4KyI2AE8ATpvvF0SuWjYE4AWRkiRJC1jVQfsc4MCIOCAiBoFjgdPaOzPzzszcIzNXZ+Zq4Gzg2Zm5rppyu2PlsmEAbvaCSEmSpAWr0qCdmSPAq4HTgYuBUzPzwoh4R0Q8u8raemnbjLYXREqSJC1YraoLyMyvA18ft+2tkxx7RD9q6rWVto5IkiQteFW3jtTS8ECT5YsGXEtbkiRpATNoV2Sv5cNcf+fGqsuQJElSjxi0K7L3rou49g57tCVJkhYqg3ZFHrzrIq67wxltSZKkhcqgXZEH77qIOzdu5Z7NI1WXIkmSpB4waFdk790WATirLUmStEAZtCuy967FTWuuNWhLkiQtSAbtijx412JG+9rbDdqSJEkLkUG7IquWDdNqhK0jkiRJC5RBuyLNRvCg5cMGbUmSpAXKoF2hfXZbxNW2jkiSJC1IBu0Krd59CVfeem/VZUiSJKkHDNoV2n/3Jdxyzxbu3rS16lIkSZLUZQbtCh2wx2IArrz1voorkSRJUrcZtCu0eo8lAFxxi+0jkiRJC41Bu0L7ryiC9gaDtiRJ0oJj0K7QosEmD9plmA22jkiSJC04Bu2K7b/7Yja48ogkSdKCY9Cu2ENXLeXXN99DZlZdiiRJkrrIoF2xR+y5jDvu28pNd2+uuhRJkiR1kUG7Yg/fcxkAl9xwd8WVSJIkqZsM2hU76EFF0L7MoC1JkrSgGLQrttuSQVYtG3JGW5IkaYExaM8Bj3jQMi698a6qy5AkSVIXGbTngEfsuYxf3XgPo2OuPCJJkrRQGLTngEc8aBmbR8a44pZ7qi5FkiRJXWLQngMeu++uAPzi6jsrrkSSJEndYtCeAx66cilLh1r84urbqy5FkiRJXWLQngOajeAx+yznF1ffUXUpkiRJ6hKD9hxxyL67csn1d7Nxy2jVpUiSJKkLDNpzxCH77srIWHLBdfZpS5IkLQQG7Tni0P12A+DcK+3TliRJWggM2nPEymVDHLhqKT9cf0vVpUiSJKkLDNpzyJMetgfnbLiNzSP2aUuSJM13Bu055EkP24NNW8f42ZWuPiJJkjTfGbTnkMc/ZAXNRtg+IkmStAAYtOeQXYYHOGTfXTnz0puqLkWSJEmzZNCeY575G3ty4XV3cfVt91VdiiRJkmbBoD3HrP2NvQA4/cIbKq5EkiRJs2HQnmP2230xB++1C9+8wKAtSZI0nxm056Dfe8xerLvydq661fYRSZKk+cqgPQc997C9aQScuu7qqkuRJEnSTjJoz0F7LV/EEY9YxefPvZqR0bGqy5EkSdJOMGjPUS/8zX258a7NfPuiG6suRZIkSTvBoD1H/c4j92T17ov56Fm/JjOrLkeSJEkzZNCeo5qN4M+e+lDOv/ZO/vdX3ilSkiRpvjFoz2HHHLY3D14+zHtPv4SxMWe1JUmS5hOD9hw21GryhqMO4oJr7+IL515TdTmSJEmaAYP2HPfsxz6YNfvvxntPv4Rb79lcdTmSJEmaJoP2HBcRvOuYR3HXxhHe8N/ne2GkJEnSPGHQngcOetAu/M3aR/Cdi2/kpB9uqLocSZIkTYNBe5542ZMO4MiD9+TdX7uI77i2tiRJ0pxn0J4nGo3gA8cewqP2Xs5ffOZnnHnJTVWXJEmSpClUHrQjYm1EXBoR6yPijRPs/6uIuCgizouI70bE/lXUORcsHmxx8ksP58A9l/LKT61zJRJJkqQ5rNKgHRFN4CPAUcDBwHERcfC4w34OrMnMxwBfAN7b3yrnlhVLBvnMK5/A4Qes4PWf/yVv+uL53LdlpOqyJEmSNE7VM9qHA+sz8/LM3AKcAhzdeUBmnpmZ95Uvzwb26XONc84uwwN86mWH8+dHPJTP/vQqfvdfvs+3L7rRFUkkSZLmkKqD9t7A1R2vrym3TeblwDd6WtE80Wo2eMPag/j8nz2RJUNNXvmpdTzvYz/izEtv8i6SkiRJc0Cr6gKmKyJeBKwBnjrJ/hOAEwD222+/PlZWrd9cvYKv/Z/f5pRzrubjZ/2al37iHPZbsZgXrNmHow/Zm31XLK66REmSpFqKKtsNIuKJwNsz85nl6zcBZOY/jDvud4APAU/NzB0ut7FmzZpct25dDyqe27aMjPH186/nc+dczY8vvxWAh++5lKcftCdPeMgKDt1vN5YvGqi4SkmSpIUjIs7NzDUT7qs4aLeAy4BnANcC5wB/lJkXdhxzKMVFkGsz81fTOW9dg3anq2+7j9MvvIHvXnwT52y4jZGxJAIOXLWUR++9KwfuuZSH77mUA1ctY+9dF9FoRNUlS5IkzTtzNmgDRMSzgA8ATeCkzHx3RLwDWJeZp0XEd4BHA9eXb7kqM5891TkN2vd3z+YRzrv6Ds698nbOvep2Lr7+Lm68a/O2/QPNYK/li3jwrsM8eNdF7L3rIlbtMsyKxYOsWLL9sdviAVrNqtv6JUmS5o45HbR7waC9Y3fet5X1N9/NZTfew1W33cd1d2zkujs2cu3tG7nhrk1Mdj3lsuEWy4ZaLCkfy4ZbLBlssXS4xdKhFosHmwwPNBlqNYrHQJPBZoOhgQZDrQduH2gGzUbQajRoNoNWo/26Y3v52ll3SZI010wVtOfNxZDqruWLB3jc/it43P4rHrBvZHSM2+7bwm33PvBxx31buWfzCPduHuGe8nHjXZu4Z1Px/N4to4z2aNWTRvCA4B0BjQgCiGi/hiCKr+W2zuMaETDudbSPBRqN7e+n3NYpOjY8cN/9t0z93nF7p3455Xtj/HsfcK6YdJ8kSQvBB154CLsvHaq6jPsxaOsBWs0Gq5YNs2rZ8E69f2R0jC2jY2zeOsbmkTE2j4wWX7cWz7eMbN8+MpaMjiUjo+XXsWR0bGz79rFkZPT+r7cfP0YCmTCWWT7P7a8TxhKS4nlmlq+L/dzvuAneDw+Y2Z/qL0DjdxVnmHj/TI4t9ndsy23/Me33bt+Xk+6TJGk+m4urGxu01XWtZoNWs8HiwaorkSRJqo5XtkmSJEk9YNCWJEmSesCgLUmSJPWAQVuSJEnqAYO2JEmS1AMGbUmSJKkHDNqSJElSDxi0JUmSpB4waEuSJEk9YNCWJEmSesCgLUmSJPWAQVuSJEnqAYO2JEmS1AMGbUmSJKkHDNqSJElSDxi0JUmSpB4waEuSJEk9YNCWJEmSeiAys+oaui4ibgaurOjb7wHcUtH3Xggcv9lx/GbH8Zsdx292HL/ZcfxmzzHcOftn5sqJdizIoF2liFiXmWuqrmO+cvxmx/GbHcdvdhy/2XH8Zsfxmz3HsPtsHZEkSZJ6wKAtSZIk9YBBu/tOrLqAec7xmx3Hb3Ycv9lx/GbH8Zsdx2/2HMMus0dbkiRJ6gFntCVJkqQeMGh3SUSsjYhLI2J9RLyx6nrmqojYEBHnR8QvImJduW1FRHw7In5Vft2t3B4R8cFyTM+LiMOqrb7/IuKkiLgpIi7o2Dbj8YqIl5TH/yoiXlLFz1KVScbw7RFxbfk5/EVEPKtj35vKMbw0Ip7Zsb12/8YjYt+IODMiLoqICyPiL8vtfganYYrx8/M3TRExHBE/jYhflmP49+X2AyLiJ+V4fC4iBsvtQ+Xr9eX+1R3nmnBsF7Ipxu/kiLii4zN4SLndf8Pdlpk+ZvkAmsCvgYcAg8AvgYOrrmsuPoANwB7jtr0XeGP5/I3AP5XPnwV8AwjgCcBPqq6/gvF6CnAYcMHOjhewAri8/Lpb+Xy3qn+2isfw7cDrJzj24PLf7xBwQPnvulnXf+PAXsBh5fNlwGXlGPkZnN34+fmb/hgGsLR8PgD8pPxsnQocW27/OPDn5fNXAR8vnx8LfG6qsa3656tw/E4Gnj/B8f4b7vLDGe3uOBxYn5mXZ+YW4BTg6Iprmk+OBj5ZPv8k8JyO7Z/KwtnArhGxVxUFViUzvw/cNm7zTMfrmcC3M/O2zLwd+DawtvfVzw2TjOFkjgZOyczNmXkFsJ7i33ct/41n5vWZ+bPy+d3AxcDe+BmclinGbzJ+/sYpP0v3lC8HykcCTwe+UG4f/xlsfza/ADwjIoLJx3ZBm2L8JuO/4S4zaHfH3sDVHa+vYer/Ma2zBL4VEedGxAnltj0z8/ry+Q3AnuVzx3ViMx0vx3Firy7/NHpSu/UBx3BS5Z/gD6WYEfMzOEPjxg/8/E1bRDQj4hfATRQB79fAHZk5Uh7SOR7bxqrcfyewOzUew/Hjl5ntz+C7y8/gv0bEULnNz2CXGbTVb0/OzMOAo4C/iIindO7MzGTq37bVwfHaaR8DHgocAlwPvL/acua2iFgK/Dfw2sy8q3Ofn8Edm2D8/PzNQGaOZuYhwD4Us9AHVVzSvDJ+/CLiUcCbKMbxNynaQd5QYYkLmkG7O64F9u14vU+5TeNk5rXl15uAL1H8j+aN7ZaQ8utN5eGO68RmOl6O4ziZeWP5fz5jwL+z/U/IjuE4ETFAERI/nZlfLDf7GZymicbPz9/Oycw7gDOBJ1K0NLTKXZ3jsW2syv3LgVtxDDvHb23Z1pSZuRn4BH4Ge8ag3R3nAAeWV0EPUlyAcVrFNc05EbEkIpa1nwNHAhdQjFX7CuaXAP9TPj8NeHF5FfQTgDs7/lxdZzMdr9OBIyNit/JP1EeW22prXK//MRSfQyjG8Nhy5YIDgAOBn1LTf+Nlb+t/ABdn5r907PIzOA2TjZ+fv+mLiJURsWv5fBHwuxS97mcCzy8PG/8ZbH82nw+cUf7VZbKxXdAmGb9LOn5RDor+9s7PoP+Gu6mfV14u5AfFlbqXUfSOvbnqeubig+KK+V+Wjwvb40TRP/dd4FfAd4AV5fYAPlKO6fnAmqp/hgrG7LMUf1reStET9/KdGS/gZRQX/6wHXlr1zzUHxvA/yzE6j+L/WPbqOP7N5RheChzVsb12/8aBJ1O0hZwH/KJ8PMvP4KzHz8/f9MfwMcDPy7G6AHhruf0hFEF5PfB5YKjcPly+Xl/uf8iOxnYhP6YYvzPKz+AFwH+xfWUS/w13+eGdISVJkqQesHVEkiRJ6gGDtiRJktQDBm1JkiSpBwzakiRJUg8YtCVJkqQeMGhL0hwXEbtExAcjYkNEjERERsQhO3jPhojY0KcS+yYi3l7+/EdUXYsk7YhBW9KCUwaxjIgrI2J4kmM2lMe0Jto/x7wXeA3Furb/APw9cMNMTxIRx5c/8/HdLa975kONkjRd8+H/YCRpZ+0HvBb4x6oLmaXfBy7LzD+YwXue0atiKvZh4BTgqqoLkaQdcUZb0kJ1O3Ab8MaI2KPqYmbpwRR3t5y2zPx1Zv66R/VUJjNvycxLMvO+qmuRpB0xaEtaqO4D3gksB942kzdGxAsi4vsRcWdEbIyI8yPiTREx1I3CImKviPhI2b6yJSJujogvRsTjxh13VkQkxW2Rn9rREnPWNL7H/Xq0y/d8onz5iY5zZUSs7jiuFRGvioizI+KuiLgvIn4eEa+OiMa477G6fP/JEfHwiPhcRNwUEWPtHuqIeFxE/FtE/DIibouITRHxq4h4f0TsNv7n3VGNU/VoR8QzIuKb5ffZHBGXRcQ/RsTyCY49q906FBF/W9a0OSKujoh/iojBCd7z2xHxlYi4pjz2hnKcZvT5klQfto5IWsg+Arwa+NOI+GBm/mpHb4iI9wBvAm4BPgPcAxwFvAd4ZkQcmZlbdragiDgA+AHFLPUZwGeBfYE/BH4vIp6XmV8tDz8ZOIviF4Ury9cAG3biW58M3AEcDfwP8IuOfXeUtQ0AXwGeCVxK8fNvAp4GfAh4PPAnE5z7ocBPgMuATwOLgLvKfa8EjgG+B3yHYoLnccBfAUdFxOMz8+7p1jiZiPhT4GPAvcDngZuAI4A3AH8QEU/KzInO8Rngt4FvlDU/C/gbYBXw0o7zrwW+Vh5zGnAtsAJ4JPAqir55Sbq/zPThw4ePBfUAErimfP788vUXxx2zodze6tj2xHLbVcCDOra3KAJoAn87y9pOL8/z5nHbfwsYAW4Flk7w85w1w++zAdgwbtvx5bmOn+Q9by/3fwhodmxvAv9R7ju6Y/vqclsC75nknPt3nqtj+8vL971hJ2s8Ytz32EwRgg8ad/xHy+NPHLf9rHL7ucCKju1LgPXA6LjPwH+Xxz92gpr2qPoz78OHj7n5sHVE0oKWmV8AfgwcExFP3sHhLyu/viszt63qkZkjwOuAMeAVO1tLROwDHEkR5N87rs4fUcxurwCeu7PfYxa1NShWNrkB+L+ZOdpR2yjFz5/AH0/w9huZZEY3M6/sPFeHkyiC8TNnWTrAi4BB4MOZecm4fW8G7gb+ZJLWnzdk5m0d9d5LMSvfANZMcPzG8Rsy85adLVzSwmbriKQ6eB3wI+B9wBOmOO6w8usZ43dk5mURcQ1wQEQsz8w7d6KOQ8uv/5uZWyfYfwZFaDwU+NROnH82Hk4R8n8FvCUiJjpmI0WrxHi/zMzNE72hbEf5U+BY4GCKnvnOSZ69Z1Fz21T/vd0eET8HngIcBPxy3CHrJjjf1eXXzh7yT1P8AvSTiPgccCbww8y8ZjaFS1rYDNqSFrzM/HFEfAF4fkS8MDM/N8mh7YvmJlvh43qKJQN3BXYmaE/n/JTn77fdy68HMvXFo0sn2DbVmt6fo+jRvpyi7/oGijYPKJZe7MYFpjs9rjlx3/ZI+bXZcdwXI+L3KX5pexnFLw9ExLnAmzLz2ztRt6QFzqAtqS7eRHGR3T9ExJcmOaYdnh8ETLQ03l7jjpupzvNPZLbnn4329/xSZs60dSUn2hgRayhC9neAo8oWnPa+BsVFh93QOa4XTrC/K+OamV8DvhYRSyguDP194M+Br0bEoZl50WzOL2nhsUdbUi1k5nqKC+MOoOhFnsjPy69HjN8REQ8D9gGumGQWdDra53/yJHekfFr59Wc7ef4dafdKNyfYdwnFyh5PKNs9uuFh5dfTOkN26XCK1UnGm6rGyUz139uuwCEUq6dcPINzTioz783MMzLzryhWoxmkWJlGku7HoC2pTt5BESbfzMQtECeVX98SESvbGyOiSdHf3aBYfYOOfQdFxEHT+eZlP++3KVbreO248zwe+COKG+1MNuM+W7eWX/eboLYRitVG9gI+GBEPCMHl+t8Hz+D7bSi/HjHuPKsoll6cUY1T+C9gK/Ca8heiTu8EdgH+a7I+8umIiKdM8svRnuVXb6Aj6QFsHZFUG5l5W7lO9nsn2f+jiHgvRUvDBWVf970Us5WPolj/+p/Hva09Szrh1YMT+DPgh8A/R8SRFBfjtdfRHgNemtvXle62H1MEwtdGxO5s763+UHlx5zuBx5Y1/kFEnEGxXvQqit7tJ1H8kjLdFolzKH7W50bEjyjGb0+K8bwUuG4nanyAzNwQEa+lCO8/i4hTgZuBp1Is2XgJxXras/FBYO+I+CHFLxBbKNYDfzrFGuenzPL8khYgg7akuvkgxQ1GVk+0MzPfUK5S8WrgxcAARb/2W4D35yxuVlOe//Kyd/ktFDdHOYJimbtvAu/OzHNmc/4dfO/bI+J5FBc7Hk+xZjQUM8J3ZubWiHgOxconx1P0IC+lCK1X/P/t3CGuAjEUhtG/lvWwBDSGfaCwOIJ5BoViaai3gbcCUkQHxQsQyDXkHFkxnXFfkztNss24fePV/S6ttWWSXca3rjPC/TSt3QX7s3d8sNextXZOskmySjLLuD3kJ+OO73fHfW72GfPm8ySLjEPR77R+6L3/ffh84Au13v/9hwUAAPiAGW0AACggtAEAoIDQBgCAAkIbAAAKCG0AACggtAEAoIDQBgCAAkIbAAAKCG0AACggtAEAoMAVqDUNLPPej8MAAAAASUVORK5CYII=\n",
      "text/plain": [
       "<Figure size 864x576 with 1 Axes>"
      ]
     },
     "metadata": {
      "needs_background": "light"
     },
     "output_type": "display_data"
    }
   ],
   "source": [
    "plt.title('Cost Function J', size = 30)\n",
    "plt.xlabel('No. of iterations', size=20)\n",
    "plt.ylabel('Cost', size=20)\n",
    "plt.plot(cost_array)\n",
    "plt.show()"
   ]
  },
  {
   "cell_type": "code",
   "execution_count": 26,
   "metadata": {},
   "outputs": [
    {
     "name": "stdout",
     "output_type": "stream",
     "text": [
      "Mean Square Error from Gradient Descent prediction : 0.361\n"
     ]
    }
   ],
   "source": [
    "#MSE\n",
    "\n",
    "MSE_GD = ((prediction_array[-1]-y)**2).mean()  #From Gradient Descent\n",
    "\n",
    "print('Mean Square Error from Gradient Descent prediction : {}'.format(round(MSE_GD,3)))"
   ]
  },
  {
   "cell_type": "code",
   "execution_count": 27,
   "metadata": {},
   "outputs": [
    {
     "name": "stdout",
     "output_type": "stream",
     "text": [
      "0.6974530192775089  -  0.1596856587150597  =  0.5377673605624492\n",
     ]
    }
   ],
   "source": [
    "for i in range(len(y)):\n",
    "    print(prediction_array[-1][i],' - ', y[i], ' = ', prediction_array[-1][i]-y[i])"
   ]
  },
  {
   "cell_type": "code",
   "execution_count": 33,
   "metadata": {},
   "outputs": [
    {
     "data": {
      "text/plain": [
       "array([-6.35373035e-16,  3.89218910e-01, -4.98756879e-01])"
      ]
     },
     "execution_count": 33,
     "metadata": {},
     "output_type": "execute_result"
    }
   ],
   "source": [
    "#coefficients\n",
    "theta_array[-1]"
   ]
  },
  {
   "cell_type": "markdown",
   "metadata": {},
   "source": [
    "#### Comparing to Multi Linear Regression using Sicket Learn"
   ]
  },
  {
   "cell_type": "code",
   "execution_count": 34,
   "metadata": {},
   "outputs": [],
   "source": [
    "from sklearn.linear_model import LinearRegression"
   ]
  },
  {
   "cell_type": "code",
   "execution_count": 35,
   "metadata": {},
   "outputs": [],
   "source": [
    "#initialize Linear Regression\n",
    "lm = LinearRegression()"
   ]
  },
  {
   "cell_type": "code",
   "execution_count": 36,
   "metadata": {},
   "outputs": [],
   "source": [
    "ys = df_boston['price']\n",
    "xs = np.c_[df_boston['RM'],df_boston['LSTAT']]\n",
    "xs = preprocessing.scale(xs)\n",
    "ys = preprocessing.scale(ys)"
   ]
  },
  {
   "cell_type": "code",
   "execution_count": 42,
   "metadata": {},
   "outputs": [],
   "source": [
    "lm = lm.fit(xs,ys)\n",
    "pred = lm.predict(xs)"
   ]
  },
  {
   "cell_type": "code",
   "execution_count": 43,
   "metadata": {},
   "outputs": [
    {
     "data": {
      "text/plain": [
       "(506,)"
      ]
     },
     "execution_count": 43,
     "metadata": {},
     "output_type": "execute_result"
    }
   ],
   "source": [
    "pred.shape"
   ]
  },
  {
   "cell_type": "code",
   "execution_count": 44,
   "metadata": {},
   "outputs": [
    {
     "name": "stdout",
     "output_type": "stream",
     "text": [
      "Intercept : 0.0\n",
      "Theta_0 : 0.3892\n",
      "Theta_1 : -0.4988\n"
     ]
    }
   ],
   "source": [
    "intercept = lm.intercept_\n",
    "Theta_0 = lm.coef_[0]\n",
    "Theta_1 = lm.coef_[1]\n",
    "\n",
    "print('Intercept : {}'.format(round(intercept,3)))\n",
    "print('Theta_0 : {}'.format(round(Theta_0,4)))\n",
    "print('Theta_1 : {}'.format(round(Theta_1,4)))"
   ]
  },
  {
   "cell_type": "code",
   "execution_count": 45,
   "metadata": {},
   "outputs": [
    {
     "name": "stdout",
     "output_type": "stream",
     "text": [
      "Intercept : -0.0\n",
      "Theta_0 : 0.3892\n",
      "Theta_1 : -0.4988\n"
     ]
    }
   ],
   "source": [
    "print('Intercept : {}'.format(round(theta[0],3)))\n",
    "print('Theta_0 : {}'.format(round(theta[1],4)))\n",
    "print('Theta_1 : {}'.format(round(theta[2],4)))"
   ]
  },
  {
   "cell_type": "code",
   "execution_count": 48,
   "metadata": {},
   "outputs": [
    {
     "name": "stdout",
     "output_type": "stream",
     "text": [
      "R square from sci-kit learn: 0.6386\n"
     ]
    }
   ],
   "source": [
    "r2_sk_learn = lm.score(xs,ys)\n",
    "print('R square from sci-kit learn: {}'.format(round(r2_sk_learn,4)))"
   ]
  },
  {
   "cell_type": "code",
   "execution_count": 49,
   "metadata": {},
   "outputs": [
    {
     "name": "stdout",
     "output_type": "stream",
     "text": [
      "R square doing from the scratch: 0.6386\n"
     ]
    }
   ],
   "source": [
    "#R^2 from Gradient Decent\n",
    "r2_GD = 1 - (sum((y - prediction_array[-1])**2)) / (sum((y - y.mean())**2))\n",
    "print('R square doing from the scratch: {}'.format(round(r2_GD,4)))"
   ]
  },
  {
   "cell_type": "code",
   "execution_count": 74,
   "metadata": {},
   "outputs": [],
   "source": []
  },
  {
   "cell_type": "code",
   "execution_count": 50,
   "metadata": {},
   "outputs": [],
   "source": [
    "import numpy as np\n",
    "from matplotlib import pyplot as plt\n",
    "from matplotlib import animation\n",
    "from mpl_toolkits.mplot3d import Axes3D\n",
    "from sklearn import datasets\n",
    "import pandas as pd\n",
    "import matplotlib.pyplot as plt\n",
    "from IPython.display import HTML\n",
    "from matplotlib import animation\n",
    "from mpl_toolkits.mplot3d import Axes3D\n",
    "from matplotlib import cm\n",
    "import numpy as np\n",
    "\n",
    "\n",
    "\n",
    "\n",
    "# Create a figure and a 3D Axes\n",
    "fig = plt.figure(figsize=(12,10))\n",
    "ax = Axes3D(fig)\n",
    "ax.set_xlabel('Rooms', fontsize = 15)\n",
    "ax.set_ylabel('Population', fontsize = 15)\n",
    "ax.set_zlabel('Price', fontsize = 15)\n",
    "\n",
    "plt.close()"
   ]
  },
  {
   "cell_type": "code",
   "execution_count": 51,
   "metadata": {},
   "outputs": [],
   "source": [
    "import matplotlib.pyplot as plt\n",
    "import matplotlib.animation as animation\n",
    "Writer = animation.writers['pillow']\n",
    "writer = Writer(fps=15, metadata=dict(artist='Me'), bitrate=1800)"
   ]
  },
  {
   "cell_type": "code",
   "execution_count": 53,
   "metadata": {},
   "outputs": [],
   "source": [
    "def init():\n",
    "    ax.scatter(xs[:,0], xs[:,1], ys, c='C6', marker='o', alpha=0.6) \n",
    "    x0, x1 = np.meshgrid(xs[:,0], xs[:,1])\n",
    "    yp = Theta_0 * x0 + Theta_1 * x1\n",
    "    ax.plot_wireframe(x0,x1,yp, rcount=200,ccount=200, linewidth = 0.5,color='C9', alpha=0.5)\n",
    "    ax.legend(fontsize=15, labels = ['Data points', 'Hyperplane'])\n",
    "    return fig,\n",
    "\n",
    "def animate(i):\n",
    "    ax.view_init(elev=10., azim=i)\n",
    "    return fig,\n",
    "\n",
    "\n",
    "# Animate\n",
    "\n",
    "anim = animation.FuncAnimation(fig, animate, init_func=init,\n",
    "                               frames=360, interval=20, blit=True)\n",
    "\n",
    "# plt.legend(fontsize=15, labels = [''])\n",
    "#anim.save('animation2.gif', writer='pillow', fps = 30)\n",
    "plt.close()"
   ]
  },
  {
   "cell_type": "code",
   "execution_count": null,
   "metadata": {},
   "outputs": [],
   "source": []
  }
 ],
 "metadata": {
  "kernelspec": {
   "display_name": "Python 3",
   "language": "python",
   "name": "python3"
  },
  "language_info": {
   "codemirror_mode": {
    "name": "ipython",
    "version": 3
   },
   "file_extension": ".py",
   "mimetype": "text/x-python",
   "name": "python",
   "nbconvert_exporter": "python",
   "pygments_lexer": "ipython3",
   "version": "3.8.2"
  }
 },
 "nbformat": 4,
 "nbformat_minor": 4
}
